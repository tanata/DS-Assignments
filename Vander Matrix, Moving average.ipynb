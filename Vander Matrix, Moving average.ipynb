{
 "cells": [
  {
   "cell_type": "code",
   "execution_count": 1,
   "metadata": {},
   "outputs": [],
   "source": [
    "#Vander Matrix\n",
    "x = np.array([1, 2, 3, 5])\n",
    "N = 3\n",
    "np.vander(x, N)\n",
    "array([[ 1,  1,  1],\n",
    "       [ 4,  2,  1],\n",
    "       [ 9,  3,  1],\n",
    "       [25,  5,  1]])"
   ]
  },
  {
   "cell_type": "code",
   "execution_count": 8,
   "metadata": {},
   "outputs": [
    {
     "data": {
      "text/plain": [
       "array([[ 1,  1,  1],\n",
       "       [ 4,  2,  1],\n",
       "       [ 9,  3,  1],\n",
       "       [25,  5,  1]])"
      ]
     },
     "execution_count": 8,
     "metadata": {},
     "output_type": "execute_result"
    }
   ],
   "source": [
    "import numpy as np\n",
    "def generate_vander(inputVector, n):\n",
    "    outputMatrix = np.array([x**(n-1-i) for x in inputVector for i in range(n)]).reshape(inputVector.size, n)\n",
    "    return outputMatrix\n",
    "x = np.array([1, 2, 3, 5])\n",
    "generate_vander(x,3)"
   ]
  },
  {
   "cell_type": "code",
   "execution_count": 9,
   "metadata": {},
   "outputs": [],
   "source": [
    "#Moving average\n"
   ]
  },
  {
   "cell_type": "code",
   "execution_count": 16,
   "metadata": {},
   "outputs": [
    {
     "name": "stdout",
     "output_type": "stream",
     "text": [
      "[25.0]\n",
      "[25.0, 35.0]\n",
      "[25.0, 35.0, 45.0]\n",
      "[25.0, 35.0, 45.0, 55.0]\n",
      "[25.0, 35.0, 45.0, 55.0, 65.0]\n",
      "[25.0, 35.0, 45.0, 55.0, 65.0, 75.0]\n",
      "[25.0, 35.0, 45.0, 55.0, 65.0, 75.0, 85.0]\n"
     ]
    }
   ],
   "source": [
    "moving_avgs = []\n",
    "def moving_avg(vector,windowSize):\n",
    "    for i in range(len(vector)-windowSize+1):\n",
    "        moving_avgs.append(sum(vector[i:i+windowSize])/windowSize)\n",
    "        print(moving_avgs)\n",
    "    \n",
    "nums = moving_avg([10,20,30,40,50,60,70,80,90,100],4)\n"
   ]
  },
  {
   "cell_type": "code",
   "execution_count": null,
   "metadata": {},
   "outputs": [],
   "source": []
  }
 ],
 "metadata": {
  "kernelspec": {
   "display_name": "Python 3",
   "language": "python",
   "name": "python3"
  },
  "language_info": {
   "codemirror_mode": {
    "name": "ipython",
    "version": 3
   },
   "file_extension": ".py",
   "mimetype": "text/x-python",
   "name": "python",
   "nbconvert_exporter": "python",
   "pygments_lexer": "ipython3",
   "version": "3.7.6"
  }
 },
 "nbformat": 4,
 "nbformat_minor": 4
}
